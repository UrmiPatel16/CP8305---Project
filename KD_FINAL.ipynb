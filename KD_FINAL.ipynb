{
  "nbformat": 4,
  "nbformat_minor": 0,
  "metadata": {
    "colab": {
      "name": "KD_FINAL.ipynb",
      "provenance": [],
      "collapsed_sections": []
    },
    "kernelspec": {
      "name": "python3",
      "display_name": "Python 3"
    }
  },
  "cells": [
    {
      "cell_type": "markdown",
      "metadata": {
        "id": "uB7ksYiWrMNh"
      },
      "source": [
        "# Urmi Patel \n",
        " (CP8305)"
      ]
    },
    {
      "cell_type": "markdown",
      "metadata": {
        "id": "ebIisPK3Ub6_"
      },
      "source": [
        "# How to add CSV file into Google Colab file !\n",
        "\n",
        "\n",
        "---\n",
        "You need to download csv files from Kaggle website [GooglePlayStore_Dataset](https://www.kaggle.com/lava18/google-play-store-apps)\n",
        "\n",
        "* first, run the below code\n",
        "* you will get 'choose files' option and click on it and select the file that you downloaded.\n",
        "* name -> googleplaystore.csv\n",
        "* after importing the csv file , you can run next code.\n",
        "\n",
        "\n",
        "\n",
        "\n",
        "\n"
      ]
    },
    {
      "cell_type": "code",
      "metadata": {
        "colab": {
          "resources": {
            "http://localhost:8080/nbextensions/google.colab/files.js": {
              "data": "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",
              "ok": true,
              "headers": [
                [
                  "content-type",
                  "application/javascript"
                ]
              ],
              "status": 200,
              "status_text": ""
            }
          },
          "base_uri": "https://localhost:8080/",
          "height": 89
        },
        "id": "ZvznDKlmFlvo",
        "outputId": "ca69e545-1c61-4980-c9f0-80bdc866062c"
      },
      "source": [
        "# Add CSV file to the notebook\n",
        "from google.colab import files\n",
        "\n",
        "uploaded = files.upload()\n",
        "\n",
        "for fn in uploaded.keys():\n",
        "  print('User uploaded file name:\"{name}\" with length: {length} bytes'.format(name=fn, length=len(uploaded[fn])))"
      ],
      "execution_count": 1,
      "outputs": [
        {
          "output_type": "display_data",
          "data": {
            "text/html": [
              "\n",
              "     <input type=\"file\" id=\"files-0ccfcb5d-1f0b-41fa-bee4-4deba301c8a5\" name=\"files[]\" multiple disabled\n",
              "        style=\"border:none\" />\n",
              "     <output id=\"result-0ccfcb5d-1f0b-41fa-bee4-4deba301c8a5\">\n",
              "      Upload widget is only available when the cell has been executed in the\n",
              "      current browser session. Please rerun this cell to enable.\n",
              "      </output>\n",
              "      <script src=\"/nbextensions/google.colab/files.js\"></script> "
            ],
            "text/plain": [
              "<IPython.core.display.HTML object>"
            ]
          },
          "metadata": {
            "tags": []
          }
        },
        {
          "output_type": "stream",
          "text": [
            "Saving googleplaystore.csv to googleplaystore.csv\n",
            "User uploaded file name:\"googleplaystore.csv\" with length: 1360155 bytes\n"
          ],
          "name": "stdout"
        }
      ]
    },
    {
      "cell_type": "code",
      "metadata": {
        "id": "NArgNPluGY25"
      },
      "source": [
        "# Import necessary libraries\n",
        "import pandas as pd\n",
        "import numpy as np\n",
        "import seaborn as sns\n",
        "from sklearn import metrics\n",
        "from sklearn import svm\n",
        "from sklearn.model_selection import train_test_split\n",
        "from sklearn.linear_model import LinearRegression \n",
        "from sklearn.ensemble import RandomForestRegressor\n",
        "from sklearn.neural_network import MLPRegressor\n",
        "import random\n",
        "import matplotlib.pyplot as plt\n",
        "%matplotlib inline"
      ],
      "execution_count": 3,
      "outputs": []
    },
    {
      "cell_type": "code",
      "metadata": {
        "id": "Skbh1EvkGBJZ"
      },
      "source": [
        "df=pd.read_csv('/content/googleplaystore.csv')"
      ],
      "execution_count": 4,
      "outputs": []
    },
    {
      "cell_type": "code",
      "metadata": {
        "colab": {
          "base_uri": "https://localhost:8080/",
          "height": 564
        },
        "id": "s4TwQLNCG_JA",
        "outputId": "fabcebf4-f686-4d9c-d1a4-15fea9d63d36"
      },
      "source": [
        "df.head()"
      ],
      "execution_count": 5,
      "outputs": [
        {
          "output_type": "execute_result",
          "data": {
            "text/html": [
              "<div>\n",
              "<style scoped>\n",
              "    .dataframe tbody tr th:only-of-type {\n",
              "        vertical-align: middle;\n",
              "    }\n",
              "\n",
              "    .dataframe tbody tr th {\n",
              "        vertical-align: top;\n",
              "    }\n",
              "\n",
              "    .dataframe thead th {\n",
              "        text-align: right;\n",
              "    }\n",
              "</style>\n",
              "<table border=\"1\" class=\"dataframe\">\n",
              "  <thead>\n",
              "    <tr style=\"text-align: right;\">\n",
              "      <th></th>\n",
              "      <th>App</th>\n",
              "      <th>Category</th>\n",
              "      <th>Rating</th>\n",
              "      <th>Reviews</th>\n",
              "      <th>Size</th>\n",
              "      <th>Installs</th>\n",
              "      <th>Type</th>\n",
              "      <th>Price</th>\n",
              "      <th>Content Rating</th>\n",
              "      <th>Genres</th>\n",
              "      <th>Last Updated</th>\n",
              "      <th>Current Ver</th>\n",
              "      <th>Android Ver</th>\n",
              "    </tr>\n",
              "  </thead>\n",
              "  <tbody>\n",
              "    <tr>\n",
              "      <th>0</th>\n",
              "      <td>Photo Editor &amp; Candy Camera &amp; Grid &amp; ScrapBook</td>\n",
              "      <td>ART_AND_DESIGN</td>\n",
              "      <td>4.1</td>\n",
              "      <td>159</td>\n",
              "      <td>19M</td>\n",
              "      <td>10,000+</td>\n",
              "      <td>Free</td>\n",
              "      <td>0</td>\n",
              "      <td>Everyone</td>\n",
              "      <td>Art &amp; Design</td>\n",
              "      <td>January 7, 2018</td>\n",
              "      <td>1.0.0</td>\n",
              "      <td>4.0.3 and up</td>\n",
              "    </tr>\n",
              "    <tr>\n",
              "      <th>1</th>\n",
              "      <td>Coloring book moana</td>\n",
              "      <td>ART_AND_DESIGN</td>\n",
              "      <td>3.9</td>\n",
              "      <td>967</td>\n",
              "      <td>14M</td>\n",
              "      <td>500,000+</td>\n",
              "      <td>Free</td>\n",
              "      <td>0</td>\n",
              "      <td>Everyone</td>\n",
              "      <td>Art &amp; Design;Pretend Play</td>\n",
              "      <td>January 15, 2018</td>\n",
              "      <td>2.0.0</td>\n",
              "      <td>4.0.3 and up</td>\n",
              "    </tr>\n",
              "    <tr>\n",
              "      <th>2</th>\n",
              "      <td>U Launcher Lite – FREE Live Cool Themes, Hide ...</td>\n",
              "      <td>ART_AND_DESIGN</td>\n",
              "      <td>4.7</td>\n",
              "      <td>87510</td>\n",
              "      <td>8.7M</td>\n",
              "      <td>5,000,000+</td>\n",
              "      <td>Free</td>\n",
              "      <td>0</td>\n",
              "      <td>Everyone</td>\n",
              "      <td>Art &amp; Design</td>\n",
              "      <td>August 1, 2018</td>\n",
              "      <td>1.2.4</td>\n",
              "      <td>4.0.3 and up</td>\n",
              "    </tr>\n",
              "    <tr>\n",
              "      <th>3</th>\n",
              "      <td>Sketch - Draw &amp; Paint</td>\n",
              "      <td>ART_AND_DESIGN</td>\n",
              "      <td>4.5</td>\n",
              "      <td>215644</td>\n",
              "      <td>25M</td>\n",
              "      <td>50,000,000+</td>\n",
              "      <td>Free</td>\n",
              "      <td>0</td>\n",
              "      <td>Teen</td>\n",
              "      <td>Art &amp; Design</td>\n",
              "      <td>June 8, 2018</td>\n",
              "      <td>Varies with device</td>\n",
              "      <td>4.2 and up</td>\n",
              "    </tr>\n",
              "    <tr>\n",
              "      <th>4</th>\n",
              "      <td>Pixel Draw - Number Art Coloring Book</td>\n",
              "      <td>ART_AND_DESIGN</td>\n",
              "      <td>4.3</td>\n",
              "      <td>967</td>\n",
              "      <td>2.8M</td>\n",
              "      <td>100,000+</td>\n",
              "      <td>Free</td>\n",
              "      <td>0</td>\n",
              "      <td>Everyone</td>\n",
              "      <td>Art &amp; Design;Creativity</td>\n",
              "      <td>June 20, 2018</td>\n",
              "      <td>1.1</td>\n",
              "      <td>4.4 and up</td>\n",
              "    </tr>\n",
              "  </tbody>\n",
              "</table>\n",
              "</div>"
            ],
            "text/plain": [
              "                                                 App  ...   Android Ver\n",
              "0     Photo Editor & Candy Camera & Grid & ScrapBook  ...  4.0.3 and up\n",
              "1                                Coloring book moana  ...  4.0.3 and up\n",
              "2  U Launcher Lite – FREE Live Cool Themes, Hide ...  ...  4.0.3 and up\n",
              "3                              Sketch - Draw & Paint  ...    4.2 and up\n",
              "4              Pixel Draw - Number Art Coloring Book  ...    4.4 and up\n",
              "\n",
              "[5 rows x 13 columns]"
            ]
          },
          "metadata": {
            "tags": []
          },
          "execution_count": 5
        }
      ]
    },
    {
      "cell_type": "code",
      "metadata": {
        "colab": {
          "base_uri": "https://localhost:8080/"
        },
        "id": "ZzlDJKwmG_mO",
        "outputId": "54d19f5e-eeed-49c1-92cf-ea6964098c4d"
      },
      "source": [
        "# Describe the rating column\n",
        "df['Rating'].describe()"
      ],
      "execution_count": 6,
      "outputs": [
        {
          "output_type": "execute_result",
          "data": {
            "text/plain": [
              "count    9367.000000\n",
              "mean        4.193338\n",
              "std         0.537431\n",
              "min         1.000000\n",
              "25%         4.000000\n",
              "50%         4.300000\n",
              "75%         4.500000\n",
              "max        19.000000\n",
              "Name: Rating, dtype: float64"
            ]
          },
          "metadata": {
            "tags": []
          },
          "execution_count": 6
        }
      ]
    },
    {
      "cell_type": "code",
      "metadata": {
        "colab": {
          "base_uri": "https://localhost:8080/"
        },
        "id": "4gjcw59xTY2e",
        "outputId": "3a96c5f8-a6ee-4d8a-f306-b153136a0a1b"
      },
      "source": [
        "df.info()"
      ],
      "execution_count": 7,
      "outputs": [
        {
          "output_type": "stream",
          "text": [
            "<class 'pandas.core.frame.DataFrame'>\n",
            "RangeIndex: 10841 entries, 0 to 10840\n",
            "Data columns (total 13 columns):\n",
            " #   Column          Non-Null Count  Dtype  \n",
            "---  ------          --------------  -----  \n",
            " 0   App             10841 non-null  object \n",
            " 1   Category        10841 non-null  object \n",
            " 2   Rating          9367 non-null   float64\n",
            " 3   Reviews         10841 non-null  object \n",
            " 4   Size            10841 non-null  object \n",
            " 5   Installs        10841 non-null  object \n",
            " 6   Type            10840 non-null  object \n",
            " 7   Price           10841 non-null  object \n",
            " 8   Content Rating  10840 non-null  object \n",
            " 9   Genres          10841 non-null  object \n",
            " 10  Last Updated    10841 non-null  object \n",
            " 11  Current Ver     10833 non-null  object \n",
            " 12  Android Ver     10838 non-null  object \n",
            "dtypes: float64(1), object(12)\n",
            "memory usage: 1.1+ MB\n"
          ],
          "name": "stdout"
        }
      ]
    },
    {
      "cell_type": "code",
      "metadata": {
        "colab": {
          "base_uri": "https://localhost:8080/"
        },
        "id": "-rR2SXTxUQPY",
        "outputId": "4f0fcaf9-55fd-4ece-c0d2-3ac172efd22e"
      },
      "source": [
        "# Show number of null values of our dataset\n",
        "df.isnull().sum()"
      ],
      "execution_count": 8,
      "outputs": [
        {
          "output_type": "execute_result",
          "data": {
            "text/plain": [
              "App                  0\n",
              "Category             0\n",
              "Rating            1474\n",
              "Reviews              0\n",
              "Size                 0\n",
              "Installs             0\n",
              "Type                 1\n",
              "Price                0\n",
              "Content Rating       1\n",
              "Genres               0\n",
              "Last Updated         0\n",
              "Current Ver          8\n",
              "Android Ver          3\n",
              "dtype: int64"
            ]
          },
          "metadata": {
            "tags": []
          },
          "execution_count": 8
        }
      ]
    },
    {
      "cell_type": "markdown",
      "metadata": {
        "id": "D8lntb3CWK-N"
      },
      "source": [
        "# Data Preprocessing "
      ]
    },
    {
      "cell_type": "markdown",
      "metadata": {
        "id": "oguCTt45WPwk"
      },
      "source": [
        "## Data cleaning"
      ]
    },
    {
      "cell_type": "code",
      "metadata": {
        "id": "1v9-ocdHUTUZ"
      },
      "source": [
        "df.dropna(inplace = True)"
      ],
      "execution_count": 9,
      "outputs": []
    },
    {
      "cell_type": "code",
      "metadata": {
        "colab": {
          "base_uri": "https://localhost:8080/"
        },
        "id": "MULnUHZNWXJB",
        "outputId": "ae66da1d-c391-44dc-99d7-6936b3dea3b1"
      },
      "source": [
        "# After removing missing value we have 9360 instances in total\n",
        "df.info()"
      ],
      "execution_count": 10,
      "outputs": [
        {
          "output_type": "stream",
          "text": [
            "<class 'pandas.core.frame.DataFrame'>\n",
            "Int64Index: 9360 entries, 0 to 10840\n",
            "Data columns (total 13 columns):\n",
            " #   Column          Non-Null Count  Dtype  \n",
            "---  ------          --------------  -----  \n",
            " 0   App             9360 non-null   object \n",
            " 1   Category        9360 non-null   object \n",
            " 2   Rating          9360 non-null   float64\n",
            " 3   Reviews         9360 non-null   object \n",
            " 4   Size            9360 non-null   object \n",
            " 5   Installs        9360 non-null   object \n",
            " 6   Type            9360 non-null   object \n",
            " 7   Price           9360 non-null   object \n",
            " 8   Content Rating  9360 non-null   object \n",
            " 9   Genres          9360 non-null   object \n",
            " 10  Last Updated    9360 non-null   object \n",
            " 11  Current Ver     9360 non-null   object \n",
            " 12  Android Ver     9360 non-null   object \n",
            "dtypes: float64(1), object(12)\n",
            "memory usage: 1023.8+ KB\n"
          ],
          "name": "stdout"
        }
      ]
    },
    {
      "cell_type": "code",
      "metadata": {
        "colab": {
          "base_uri": "https://localhost:8080/"
        },
        "id": "REx4kNdhWZeS",
        "outputId": "0d40c5e3-961d-4630-a9ad-c427e9b53d20"
      },
      "source": [
        "df.isnull().sum()"
      ],
      "execution_count": 11,
      "outputs": [
        {
          "output_type": "execute_result",
          "data": {
            "text/plain": [
              "App               0\n",
              "Category          0\n",
              "Rating            0\n",
              "Reviews           0\n",
              "Size              0\n",
              "Installs          0\n",
              "Type              0\n",
              "Price             0\n",
              "Content Rating    0\n",
              "Genres            0\n",
              "Last Updated      0\n",
              "Current Ver       0\n",
              "Android Ver       0\n",
              "dtype: int64"
            ]
          },
          "metadata": {
            "tags": []
          },
          "execution_count": 11
        }
      ]
    },
    {
      "cell_type": "code",
      "metadata": {
        "id": "DS7H81z8Wc4o"
      },
      "source": [
        "# Cleaning size of installation\n",
        "def change_size(size):\n",
        "    if 'M' in size:\n",
        "        x = size[:-1]\n",
        "        x = float(x)*1000000\n",
        "        return(x)\n",
        "    elif 'k' == size[-1:]:\n",
        "        x = size[:-1]\n",
        "        x = float(x)*1000\n",
        "        return(x)\n",
        "    else:\n",
        "        return None\n",
        "\n",
        "df[\"Size\"] = df[\"Size\"].map(change_size)"
      ],
      "execution_count": 12,
      "outputs": []
    },
    {
      "cell_type": "code",
      "metadata": {
        "id": "ckW6vWlXWrXs"
      },
      "source": [
        "# Filling Size which had NA\n",
        "df.Size.fillna(method = 'ffill', inplace = True)"
      ],
      "execution_count": 13,
      "outputs": []
    },
    {
      "cell_type": "code",
      "metadata": {
        "id": "QD5mf24VW5rY"
      },
      "source": [
        "# Cleaning no of installs \n",
        "df['Installs'] = [int(i[:-1].replace(',','')) for i in df['Installs']]"
      ],
      "execution_count": 14,
      "outputs": []
    },
    {
      "cell_type": "code",
      "metadata": {
        "id": "V0DHmd51XALi"
      },
      "source": [
        "# Cleaning of content rating \n",
        "RatingL = df['Content Rating'].unique()\n",
        "RatingDict = {}\n",
        "for i in range(len(RatingL)):\n",
        "    RatingDict[RatingL[i]] = i\n",
        "df['Content Rating'] = df['Content Rating'].map(RatingDict).astype(int)"
      ],
      "execution_count": 15,
      "outputs": []
    },
    {
      "cell_type": "code",
      "metadata": {
        "id": "DubAu-cFXsvW"
      },
      "source": [
        "# Cleaning prices column\n",
        "def price_clean(price):\n",
        "    if price == '0':\n",
        "        return 0\n",
        "    else:\n",
        "        price = price[1:]\n",
        "        price = float(price)\n",
        "        return price\n",
        "\n",
        "df['Price'] = df['Price'].map(price_clean).astype(float)"
      ],
      "execution_count": 16,
      "outputs": []
    },
    {
      "cell_type": "markdown",
      "metadata": {
        "id": "eTaG95mnXLdx"
      },
      "source": [
        "## Data Transformation "
      ]
    },
    {
      "cell_type": "code",
      "metadata": {
        "id": "vfrD_NNMXQN3"
      },
      "source": [
        "# Cleaning Categories column into integers\n",
        "CategoryString = df[\"Category\"]\n",
        "categoryVal = df[\"Category\"].unique()\n",
        "categoryValCount = len(categoryVal)\n",
        "category_dict = {}\n",
        "for i in range(0,categoryValCount):\n",
        "    category_dict[categoryVal[i]] = i\n",
        "df[\"Category_c\"] = df[\"Category\"].map(category_dict).astype(int)\n",
        "#print(category_dict)"
      ],
      "execution_count": 17,
      "outputs": []
    },
    {
      "cell_type": "code",
      "metadata": {
        "id": "JM_avSRsXWCd"
      },
      "source": [
        "# Converting Type column into binary\n",
        "def type_cat(types):\n",
        "    if types == 'Free':\n",
        "        return 0\n",
        "    else:\n",
        "        return 1\n",
        "\n",
        "df['Type'] = df['Type'].map(type_cat)"
      ],
      "execution_count": 18,
      "outputs": []
    },
    {
      "cell_type": "code",
      "metadata": {
        "id": "aJ0yYOdcXeLc"
      },
      "source": [
        "# Cleaning of genres column\n",
        "GenresL = df.Genres.unique()\n",
        "GenresDict = {}\n",
        "for i in range(len(GenresL)):\n",
        "    GenresDict[GenresL[i]] = i\n",
        "df['Genres_c'] = df['Genres'].map(GenresDict).astype(int)"
      ],
      "execution_count": 19,
      "outputs": []
    },
    {
      "cell_type": "code",
      "metadata": {
        "id": "p8dRgO1xXpeH"
      },
      "source": [
        "# Convert reviews to numeric\n",
        "df['Reviews'] = df['Reviews'].astype(int)"
      ],
      "execution_count": 20,
      "outputs": []
    },
    {
      "cell_type": "code",
      "metadata": {
        "id": "HdE0yULOX0mz"
      },
      "source": [
        "# Dropping of unrelated and unnecessary items from the dataset\n",
        "df.drop(labels = ['Last Updated','Current Ver','Android Ver','App'], axis = 1, inplace = True)"
      ],
      "execution_count": 21,
      "outputs": []
    },
    {
      "cell_type": "code",
      "metadata": {
        "colab": {
          "base_uri": "https://localhost:8080/"
        },
        "id": "j3dKtWOqX3ux",
        "outputId": "2fe808ef-a654-4986-e4b8-fc2cf925178e"
      },
      "source": [
        "df.info()"
      ],
      "execution_count": 22,
      "outputs": [
        {
          "output_type": "stream",
          "text": [
            "<class 'pandas.core.frame.DataFrame'>\n",
            "Int64Index: 9360 entries, 0 to 10840\n",
            "Data columns (total 11 columns):\n",
            " #   Column          Non-Null Count  Dtype  \n",
            "---  ------          --------------  -----  \n",
            " 0   Category        9360 non-null   object \n",
            " 1   Rating          9360 non-null   float64\n",
            " 2   Reviews         9360 non-null   int64  \n",
            " 3   Size            9360 non-null   float64\n",
            " 4   Installs        9360 non-null   int64  \n",
            " 5   Type            9360 non-null   int64  \n",
            " 6   Price           9360 non-null   float64\n",
            " 7   Content Rating  9360 non-null   int64  \n",
            " 8   Genres          9360 non-null   object \n",
            " 9   Category_c      9360 non-null   int64  \n",
            " 10  Genres_c        9360 non-null   int64  \n",
            "dtypes: float64(3), int64(6), object(2)\n",
            "memory usage: 877.5+ KB\n"
          ],
          "name": "stdout"
        }
      ]
    },
    {
      "cell_type": "code",
      "metadata": {
        "colab": {
          "base_uri": "https://localhost:8080/",
          "height": 255
        },
        "id": "OLXxF9XdYWBe",
        "outputId": "c6636a3a-cd88-46e7-d073-28203cb2d555"
      },
      "source": [
        "df.head()"
      ],
      "execution_count": 23,
      "outputs": [
        {
          "output_type": "execute_result",
          "data": {
            "text/html": [
              "<div>\n",
              "<style scoped>\n",
              "    .dataframe tbody tr th:only-of-type {\n",
              "        vertical-align: middle;\n",
              "    }\n",
              "\n",
              "    .dataframe tbody tr th {\n",
              "        vertical-align: top;\n",
              "    }\n",
              "\n",
              "    .dataframe thead th {\n",
              "        text-align: right;\n",
              "    }\n",
              "</style>\n",
              "<table border=\"1\" class=\"dataframe\">\n",
              "  <thead>\n",
              "    <tr style=\"text-align: right;\">\n",
              "      <th></th>\n",
              "      <th>Category</th>\n",
              "      <th>Rating</th>\n",
              "      <th>Reviews</th>\n",
              "      <th>Size</th>\n",
              "      <th>Installs</th>\n",
              "      <th>Type</th>\n",
              "      <th>Price</th>\n",
              "      <th>Content Rating</th>\n",
              "      <th>Genres</th>\n",
              "      <th>Category_c</th>\n",
              "      <th>Genres_c</th>\n",
              "    </tr>\n",
              "  </thead>\n",
              "  <tbody>\n",
              "    <tr>\n",
              "      <th>0</th>\n",
              "      <td>ART_AND_DESIGN</td>\n",
              "      <td>4.1</td>\n",
              "      <td>159</td>\n",
              "      <td>19000000.0</td>\n",
              "      <td>10000</td>\n",
              "      <td>0</td>\n",
              "      <td>0.0</td>\n",
              "      <td>0</td>\n",
              "      <td>Art &amp; Design</td>\n",
              "      <td>0</td>\n",
              "      <td>0</td>\n",
              "    </tr>\n",
              "    <tr>\n",
              "      <th>1</th>\n",
              "      <td>ART_AND_DESIGN</td>\n",
              "      <td>3.9</td>\n",
              "      <td>967</td>\n",
              "      <td>14000000.0</td>\n",
              "      <td>500000</td>\n",
              "      <td>0</td>\n",
              "      <td>0.0</td>\n",
              "      <td>0</td>\n",
              "      <td>Art &amp; Design;Pretend Play</td>\n",
              "      <td>0</td>\n",
              "      <td>1</td>\n",
              "    </tr>\n",
              "    <tr>\n",
              "      <th>2</th>\n",
              "      <td>ART_AND_DESIGN</td>\n",
              "      <td>4.7</td>\n",
              "      <td>87510</td>\n",
              "      <td>8700000.0</td>\n",
              "      <td>5000000</td>\n",
              "      <td>0</td>\n",
              "      <td>0.0</td>\n",
              "      <td>0</td>\n",
              "      <td>Art &amp; Design</td>\n",
              "      <td>0</td>\n",
              "      <td>0</td>\n",
              "    </tr>\n",
              "    <tr>\n",
              "      <th>3</th>\n",
              "      <td>ART_AND_DESIGN</td>\n",
              "      <td>4.5</td>\n",
              "      <td>215644</td>\n",
              "      <td>25000000.0</td>\n",
              "      <td>50000000</td>\n",
              "      <td>0</td>\n",
              "      <td>0.0</td>\n",
              "      <td>1</td>\n",
              "      <td>Art &amp; Design</td>\n",
              "      <td>0</td>\n",
              "      <td>0</td>\n",
              "    </tr>\n",
              "    <tr>\n",
              "      <th>4</th>\n",
              "      <td>ART_AND_DESIGN</td>\n",
              "      <td>4.3</td>\n",
              "      <td>967</td>\n",
              "      <td>2800000.0</td>\n",
              "      <td>100000</td>\n",
              "      <td>0</td>\n",
              "      <td>0.0</td>\n",
              "      <td>0</td>\n",
              "      <td>Art &amp; Design;Creativity</td>\n",
              "      <td>0</td>\n",
              "      <td>2</td>\n",
              "    </tr>\n",
              "  </tbody>\n",
              "</table>\n",
              "</div>"
            ],
            "text/plain": [
              "         Category  Rating  ...  Category_c  Genres_c\n",
              "0  ART_AND_DESIGN     4.1  ...           0         0\n",
              "1  ART_AND_DESIGN     3.9  ...           0         1\n",
              "2  ART_AND_DESIGN     4.7  ...           0         0\n",
              "3  ART_AND_DESIGN     4.5  ...           0         0\n",
              "4  ART_AND_DESIGN     4.3  ...           0         2\n",
              "\n",
              "[5 rows x 11 columns]"
            ]
          },
          "metadata": {
            "tags": []
          },
          "execution_count": 23
        }
      ]
    },
    {
      "cell_type": "code",
      "metadata": {
        "id": "-vH7TMGfYZAZ"
      },
      "source": [
        "# Second dataframe for one-hot encoding\n",
        "df2 = pd.get_dummies(df, columns=['Category'])"
      ],
      "execution_count": 24,
      "outputs": []
    },
    {
      "cell_type": "code",
      "metadata": {
        "colab": {
          "base_uri": "https://localhost:8080/",
          "height": 292
        },
        "id": "O2hTq1I3Yk7Z",
        "outputId": "ffc20b4a-95fd-4e7d-bdfe-a1c9e8c2036d"
      },
      "source": [
        "df2.head()"
      ],
      "execution_count": 25,
      "outputs": [
        {
          "output_type": "execute_result",
          "data": {
            "text/html": [
              "<div>\n",
              "<style scoped>\n",
              "    .dataframe tbody tr th:only-of-type {\n",
              "        vertical-align: middle;\n",
              "    }\n",
              "\n",
              "    .dataframe tbody tr th {\n",
              "        vertical-align: top;\n",
              "    }\n",
              "\n",
              "    .dataframe thead th {\n",
              "        text-align: right;\n",
              "    }\n",
              "</style>\n",
              "<table border=\"1\" class=\"dataframe\">\n",
              "  <thead>\n",
              "    <tr style=\"text-align: right;\">\n",
              "      <th></th>\n",
              "      <th>Rating</th>\n",
              "      <th>Reviews</th>\n",
              "      <th>Size</th>\n",
              "      <th>Installs</th>\n",
              "      <th>Type</th>\n",
              "      <th>Price</th>\n",
              "      <th>Content Rating</th>\n",
              "      <th>Genres</th>\n",
              "      <th>Category_c</th>\n",
              "      <th>Genres_c</th>\n",
              "      <th>Category_ART_AND_DESIGN</th>\n",
              "      <th>Category_AUTO_AND_VEHICLES</th>\n",
              "      <th>Category_BEAUTY</th>\n",
              "      <th>Category_BOOKS_AND_REFERENCE</th>\n",
              "      <th>Category_BUSINESS</th>\n",
              "      <th>Category_COMICS</th>\n",
              "      <th>Category_COMMUNICATION</th>\n",
              "      <th>Category_DATING</th>\n",
              "      <th>Category_EDUCATION</th>\n",
              "      <th>Category_ENTERTAINMENT</th>\n",
              "      <th>Category_EVENTS</th>\n",
              "      <th>Category_FAMILY</th>\n",
              "      <th>Category_FINANCE</th>\n",
              "      <th>Category_FOOD_AND_DRINK</th>\n",
              "      <th>Category_GAME</th>\n",
              "      <th>Category_HEALTH_AND_FITNESS</th>\n",
              "      <th>Category_HOUSE_AND_HOME</th>\n",
              "      <th>Category_LIBRARIES_AND_DEMO</th>\n",
              "      <th>Category_LIFESTYLE</th>\n",
              "      <th>Category_MAPS_AND_NAVIGATION</th>\n",
              "      <th>Category_MEDICAL</th>\n",
              "      <th>Category_NEWS_AND_MAGAZINES</th>\n",
              "      <th>Category_PARENTING</th>\n",
              "      <th>Category_PERSONALIZATION</th>\n",
              "      <th>Category_PHOTOGRAPHY</th>\n",
              "      <th>Category_PRODUCTIVITY</th>\n",
              "      <th>Category_SHOPPING</th>\n",
              "      <th>Category_SOCIAL</th>\n",
              "      <th>Category_SPORTS</th>\n",
              "      <th>Category_TOOLS</th>\n",
              "      <th>Category_TRAVEL_AND_LOCAL</th>\n",
              "      <th>Category_VIDEO_PLAYERS</th>\n",
              "      <th>Category_WEATHER</th>\n",
              "    </tr>\n",
              "  </thead>\n",
              "  <tbody>\n",
              "    <tr>\n",
              "      <th>0</th>\n",
              "      <td>4.1</td>\n",
              "      <td>159</td>\n",
              "      <td>19000000.0</td>\n",
              "      <td>10000</td>\n",
              "      <td>0</td>\n",
              "      <td>0.0</td>\n",
              "      <td>0</td>\n",
              "      <td>Art &amp; Design</td>\n",
              "      <td>0</td>\n",
              "      <td>0</td>\n",
              "      <td>1</td>\n",
              "      <td>0</td>\n",
              "      <td>0</td>\n",
              "      <td>0</td>\n",
              "      <td>0</td>\n",
              "      <td>0</td>\n",
              "      <td>0</td>\n",
              "      <td>0</td>\n",
              "      <td>0</td>\n",
              "      <td>0</td>\n",
              "      <td>0</td>\n",
              "      <td>0</td>\n",
              "      <td>0</td>\n",
              "      <td>0</td>\n",
              "      <td>0</td>\n",
              "      <td>0</td>\n",
              "      <td>0</td>\n",
              "      <td>0</td>\n",
              "      <td>0</td>\n",
              "      <td>0</td>\n",
              "      <td>0</td>\n",
              "      <td>0</td>\n",
              "      <td>0</td>\n",
              "      <td>0</td>\n",
              "      <td>0</td>\n",
              "      <td>0</td>\n",
              "      <td>0</td>\n",
              "      <td>0</td>\n",
              "      <td>0</td>\n",
              "      <td>0</td>\n",
              "      <td>0</td>\n",
              "      <td>0</td>\n",
              "      <td>0</td>\n",
              "    </tr>\n",
              "    <tr>\n",
              "      <th>1</th>\n",
              "      <td>3.9</td>\n",
              "      <td>967</td>\n",
              "      <td>14000000.0</td>\n",
              "      <td>500000</td>\n",
              "      <td>0</td>\n",
              "      <td>0.0</td>\n",
              "      <td>0</td>\n",
              "      <td>Art &amp; Design;Pretend Play</td>\n",
              "      <td>0</td>\n",
              "      <td>1</td>\n",
              "      <td>1</td>\n",
              "      <td>0</td>\n",
              "      <td>0</td>\n",
              "      <td>0</td>\n",
              "      <td>0</td>\n",
              "      <td>0</td>\n",
              "      <td>0</td>\n",
              "      <td>0</td>\n",
              "      <td>0</td>\n",
              "      <td>0</td>\n",
              "      <td>0</td>\n",
              "      <td>0</td>\n",
              "      <td>0</td>\n",
              "      <td>0</td>\n",
              "      <td>0</td>\n",
              "      <td>0</td>\n",
              "      <td>0</td>\n",
              "      <td>0</td>\n",
              "      <td>0</td>\n",
              "      <td>0</td>\n",
              "      <td>0</td>\n",
              "      <td>0</td>\n",
              "      <td>0</td>\n",
              "      <td>0</td>\n",
              "      <td>0</td>\n",
              "      <td>0</td>\n",
              "      <td>0</td>\n",
              "      <td>0</td>\n",
              "      <td>0</td>\n",
              "      <td>0</td>\n",
              "      <td>0</td>\n",
              "      <td>0</td>\n",
              "      <td>0</td>\n",
              "    </tr>\n",
              "    <tr>\n",
              "      <th>2</th>\n",
              "      <td>4.7</td>\n",
              "      <td>87510</td>\n",
              "      <td>8700000.0</td>\n",
              "      <td>5000000</td>\n",
              "      <td>0</td>\n",
              "      <td>0.0</td>\n",
              "      <td>0</td>\n",
              "      <td>Art &amp; Design</td>\n",
              "      <td>0</td>\n",
              "      <td>0</td>\n",
              "      <td>1</td>\n",
              "      <td>0</td>\n",
              "      <td>0</td>\n",
              "      <td>0</td>\n",
              "      <td>0</td>\n",
              "      <td>0</td>\n",
              "      <td>0</td>\n",
              "      <td>0</td>\n",
              "      <td>0</td>\n",
              "      <td>0</td>\n",
              "      <td>0</td>\n",
              "      <td>0</td>\n",
              "      <td>0</td>\n",
              "      <td>0</td>\n",
              "      <td>0</td>\n",
              "      <td>0</td>\n",
              "      <td>0</td>\n",
              "      <td>0</td>\n",
              "      <td>0</td>\n",
              "      <td>0</td>\n",
              "      <td>0</td>\n",
              "      <td>0</td>\n",
              "      <td>0</td>\n",
              "      <td>0</td>\n",
              "      <td>0</td>\n",
              "      <td>0</td>\n",
              "      <td>0</td>\n",
              "      <td>0</td>\n",
              "      <td>0</td>\n",
              "      <td>0</td>\n",
              "      <td>0</td>\n",
              "      <td>0</td>\n",
              "      <td>0</td>\n",
              "    </tr>\n",
              "    <tr>\n",
              "      <th>3</th>\n",
              "      <td>4.5</td>\n",
              "      <td>215644</td>\n",
              "      <td>25000000.0</td>\n",
              "      <td>50000000</td>\n",
              "      <td>0</td>\n",
              "      <td>0.0</td>\n",
              "      <td>1</td>\n",
              "      <td>Art &amp; Design</td>\n",
              "      <td>0</td>\n",
              "      <td>0</td>\n",
              "      <td>1</td>\n",
              "      <td>0</td>\n",
              "      <td>0</td>\n",
              "      <td>0</td>\n",
              "      <td>0</td>\n",
              "      <td>0</td>\n",
              "      <td>0</td>\n",
              "      <td>0</td>\n",
              "      <td>0</td>\n",
              "      <td>0</td>\n",
              "      <td>0</td>\n",
              "      <td>0</td>\n",
              "      <td>0</td>\n",
              "      <td>0</td>\n",
              "      <td>0</td>\n",
              "      <td>0</td>\n",
              "      <td>0</td>\n",
              "      <td>0</td>\n",
              "      <td>0</td>\n",
              "      <td>0</td>\n",
              "      <td>0</td>\n",
              "      <td>0</td>\n",
              "      <td>0</td>\n",
              "      <td>0</td>\n",
              "      <td>0</td>\n",
              "      <td>0</td>\n",
              "      <td>0</td>\n",
              "      <td>0</td>\n",
              "      <td>0</td>\n",
              "      <td>0</td>\n",
              "      <td>0</td>\n",
              "      <td>0</td>\n",
              "      <td>0</td>\n",
              "    </tr>\n",
              "    <tr>\n",
              "      <th>4</th>\n",
              "      <td>4.3</td>\n",
              "      <td>967</td>\n",
              "      <td>2800000.0</td>\n",
              "      <td>100000</td>\n",
              "      <td>0</td>\n",
              "      <td>0.0</td>\n",
              "      <td>0</td>\n",
              "      <td>Art &amp; Design;Creativity</td>\n",
              "      <td>0</td>\n",
              "      <td>2</td>\n",
              "      <td>1</td>\n",
              "      <td>0</td>\n",
              "      <td>0</td>\n",
              "      <td>0</td>\n",
              "      <td>0</td>\n",
              "      <td>0</td>\n",
              "      <td>0</td>\n",
              "      <td>0</td>\n",
              "      <td>0</td>\n",
              "      <td>0</td>\n",
              "      <td>0</td>\n",
              "      <td>0</td>\n",
              "      <td>0</td>\n",
              "      <td>0</td>\n",
              "      <td>0</td>\n",
              "      <td>0</td>\n",
              "      <td>0</td>\n",
              "      <td>0</td>\n",
              "      <td>0</td>\n",
              "      <td>0</td>\n",
              "      <td>0</td>\n",
              "      <td>0</td>\n",
              "      <td>0</td>\n",
              "      <td>0</td>\n",
              "      <td>0</td>\n",
              "      <td>0</td>\n",
              "      <td>0</td>\n",
              "      <td>0</td>\n",
              "      <td>0</td>\n",
              "      <td>0</td>\n",
              "      <td>0</td>\n",
              "      <td>0</td>\n",
              "      <td>0</td>\n",
              "    </tr>\n",
              "  </tbody>\n",
              "</table>\n",
              "</div>"
            ],
            "text/plain": [
              "   Rating  Reviews  ...  Category_VIDEO_PLAYERS  Category_WEATHER\n",
              "0     4.1      159  ...                       0                 0\n",
              "1     3.9      967  ...                       0                 0\n",
              "2     4.7    87510  ...                       0                 0\n",
              "3     4.5   215644  ...                       0                 0\n",
              "4     4.3      967  ...                       0                 0\n",
              "\n",
              "[5 rows x 43 columns]"
            ]
          },
          "metadata": {
            "tags": []
          },
          "execution_count": 25
        }
      ]
    },
    {
      "cell_type": "markdown",
      "metadata": {
        "id": "CEtwTNJoYxT2"
      },
      "source": [
        "# Data Visualisation "
      ]
    },
    {
      "cell_type": "markdown",
      "metadata": {
        "id": "7kO19IDeZMdP"
      },
      "source": [
        "## Rating Distribution "
      ]
    },
    {
      "cell_type": "code",
      "metadata": {
        "colab": {
          "base_uri": "https://localhost:8080/",
          "height": 546
        },
        "id": "xnqTyWs4YnLJ",
        "outputId": "be92c3bb-0833-4325-d1d3-dc3c377c32ae"
      },
      "source": [
        "# distribution of ratings\n",
        "from pylab import rcParams\n",
        "\n",
        "rcParams['figure.figsize'] = 11.7, 8.27\n",
        "g = sns.kdeplot(df.Rating, color=\"orange\", shade = True)\n",
        "g.set_xlabel(\"Rating\")\n",
        "g.set_ylabel(\"Frequency\")\n",
        "plt.title('Distribution of Rating',size = 15)"
      ],
      "execution_count": 26,
      "outputs": [
        {
          "output_type": "execute_result",
          "data": {
            "text/plain": [
              "Text(0.5, 1.0, 'Distribution of Rating')"
            ]
          },
          "metadata": {
            "tags": []
          },
          "execution_count": 26
        },
        {
          "output_type": "display_data",
          "data": {
            "image/png": "[encoded data removed]",
            "text/plain": [
              "<Figure size 842.4x595.44 with 1 Axes>"
            ]
          },
          "metadata": {
            "tags": [],
            "needs_background": "light"
          }
        }
      ]
    },
    {
      "cell_type": "code",
      "metadata": {
        "colab": {
          "base_uri": "https://localhost:8080/"
        },
        "id": "59XtKSLRZZWI",
        "outputId": "22b03558-7451-4419-ab50-236abdf7abb0"
      },
      "source": [
        "print('Average app rating = ', np.mean(df['Rating']))"
      ],
      "execution_count": 27,
      "outputs": [
        {
          "output_type": "stream",
          "text": [
            "Average app rating =  4.191837606837612\n"
          ],
          "name": "stdout"
        }
      ]
    },
    {
      "cell_type": "markdown",
      "metadata": {
        "id": "PfhwuUEAaBVp"
      },
      "source": [
        "## Correlation Matrix of data"
      ]
    },
    {
      "cell_type": "code",
      "metadata": {
        "colab": {
          "base_uri": "https://localhost:8080/",
          "height": 691
        },
        "id": "jFzAeBZgZeF3",
        "outputId": "19dc3507-c9de-40c0-8aed-9cabf8025c9a"
      },
      "source": [
        "import seaborn as sns # for making plots with seaborn\n",
        "color = sns.color_palette()\n",
        "sns.set(rc={'figure.figsize':(25,15)})\n",
        "\n",
        "df_corr = df.copy()\n",
        "df_corr.drop(labels = ['Type','Category_c','Content Rating','Genres_c'], axis = 1, inplace = True)\n",
        "\n",
        "corrmat = df_corr.corr()\n",
        "p =sns.heatmap(corrmat, annot=True, cmap=sns.diverging_palette(245,10, as_cmap=True))"
      ],
      "execution_count": 28,
      "outputs": [
        {
          "output_type": "display_data",
          "data": {
            "image/png": "[encoded data removed]",
            "text/plain": [
              "<Figure size 1800x1080 with 2 Axes>"
            ]
          },
          "metadata": {
            "tags": []
          }
        }
      ]
    },
    {
      "cell_type": "markdown",
      "metadata": {
        "id": "_sz9QHbHc9gv"
      },
      "source": [
        "## Size VS Rating"
      ]
    },
    {
      "cell_type": "code",
      "metadata": {
        "colab": {
          "base_uri": "https://localhost:8080/",
          "height": 491
        },
        "id": "eJyle9ZwbSk2",
        "outputId": "c2cf0a7c-82fe-4d00-e470-689676509214"
      },
      "source": [
        "# How the application size impact on the rating\n",
        "groups = df.groupby('Category').filter(lambda x: len(x) >= 50).reset_index()\n",
        "sns.set_style(\"darkgrid\")\n",
        "ax = sns.jointplot(df['Size'], df['Rating'])"
      ],
      "execution_count": 29,
      "outputs": [
        {
          "output_type": "stream",
          "text": [
            "/usr/local/lib/python3.6/dist-packages/seaborn/_decorators.py:43: FutureWarning: Pass the following variables as keyword args: x, y. From version 0.12, the only valid positional argument will be `data`, and passing other arguments without an explicit keyword will result in an error or misinterpretation.\n",
            "  FutureWarning\n"
          ],
          "name": "stderr"
        },
        {
          "output_type": "display_data",
          "data": {
            "image/png": "[encoded data removed]",
            "text/plain": [
              "<Figure size 432x432 with 3 Axes>"
            ]
          },
          "metadata": {
            "tags": []
          }
        }
      ]
    },
    {
      "cell_type": "markdown",
      "metadata": {
        "id": "-EP_htQJdyHE"
      },
      "source": [
        "# Error Term"
      ]
    },
    {
      "cell_type": "code",
      "metadata": {
        "id": "PJOKOkg3dx3i"
      },
      "source": [
        "#for evaluation of error term and \n",
        "def Evaluationmatrix(y_true, y_predict):\n",
        "    print ('Mean Squared Error: '+ str(metrics.mean_squared_error(y_true,y_predict)))\n",
        "    print ('Mean absolute Error: '+ str(metrics.mean_absolute_error(y_true,y_predict)))\n",
        "    print ('r2_score: '+ str(metrics.r2_score(y_true,y_predict)))"
      ],
      "execution_count": 30,
      "outputs": []
    },
    {
      "cell_type": "code",
      "metadata": {
        "id": "a4q3GJXFd3jH"
      },
      "source": [
        "#to add into results_index for evaluation of error term \n",
        "def Evaluationmatrix_dict(y_true, y_predict, name = 'Linear - Integer'):\n",
        "    dict_matrix = {}\n",
        "    dict_matrix['Series Name'] = name\n",
        "    dict_matrix['Mean Squared Error'] = metrics.mean_squared_error(y_true,y_predict)\n",
        "    dict_matrix['Mean Absolute Error'] = metrics.mean_absolute_error(y_true,y_predict)\n",
        "    dict_matrix['r2_score'] = metrics.r2_score(y_true,y_predict)\n",
        "    \n",
        "    return dict_matrix"
      ],
      "execution_count": 31,
      "outputs": []
    },
    {
      "cell_type": "markdown",
      "metadata": {
        "id": "h1fVaU9edjsU"
      },
      "source": [
        "# Regression models"
      ]
    },
    {
      "cell_type": "markdown",
      "metadata": {
        "id": "yjOl6qkdjOej"
      },
      "source": [
        "## Linear Regression "
      ]
    },
    {
      "cell_type": "markdown",
      "metadata": {
        "id": "JVzkodpYlX8m"
      },
      "source": [
        "### Without Genres"
      ]
    },
    {
      "cell_type": "code",
      "metadata": {
        "id": "SKXlYu9fFhDA"
      },
      "source": [
        "# Integer encoding\n",
        "X = df.drop(labels = ['Category','Rating','Genres','Genres_c'],axis = 1)\n",
        "y = df.Rating\n",
        "X_train, X_test, y_train, y_test = train_test_split(X, y, test_size=0.30)"
      ],
      "execution_count": 32,
      "outputs": []
    },
    {
      "cell_type": "code",
      "metadata": {
        "id": "qPgpzJR3dBXH"
      },
      "source": [
        "model = LinearRegression()\n",
        "model.fit(X_train,y_train)\n",
        "Results = model.predict(X_test)\n",
        "\n",
        "lr_mse = metrics.mean_squared_error(y_test, Results)\n",
        "lr_r2 = metrics.r2_score(y_test, Results)\n",
        "lr_mae = metrics.median_absolute_error(y_test, Results)\n",
        "\n",
        "# Creation of results dataframe and addition of first entry\n",
        "resultsdf = pd.DataFrame()\n",
        "resultsdf = resultsdf.from_dict(Evaluationmatrix_dict(y_test,Results),orient = 'index')\n",
        "resultsdf = resultsdf.transpose()"
      ],
      "execution_count": 33,
      "outputs": []
    },
    {
      "cell_type": "code",
      "metadata": {
        "colab": {
          "base_uri": "https://localhost:8080/"
        },
        "id": "CWHOvpTKgyxk",
        "outputId": "f42db38d-f1de-4fb4-8e14-20f9cd754361"
      },
      "source": [
        "\n",
        "print(\"For Integer encoding\")\n",
        "print ('Mean squared error: ' +str(lr_mse))\n",
        "print ('Mean absolute error: ' +str(lr_mae))\n",
        "print ('r2 score: ' +str(lr_r2))"
      ],
      "execution_count": 34,
      "outputs": [
        {
          "output_type": "stream",
          "text": [
            "For Integer encoding\n",
            "Mean squared error: 0.2520023919567276\n",
            "Mean absolute error: 0.25608247723818556\n",
            "r2 score: 0.013226823000762944\n"
          ],
          "name": "stdout"
        }
      ]
    },
    {
      "cell_type": "code",
      "metadata": {
        "id": "vC_bjJfOGh27"
      },
      "source": [
        "# One-hot encoding\n",
        "\n",
        "X_d = df2.drop(labels = ['Rating','Genres','Category_c','Genres_c'],axis = 1)\n",
        "y_d = df2.Rating\n",
        "X_train_d, X_test_d, y_train_d, y_test_d = train_test_split(X_d, y_d, test_size=0.30)"
      ],
      "execution_count": 35,
      "outputs": []
    },
    {
      "cell_type": "code",
      "metadata": {
        "id": "6SMtfvIjdoB5"
      },
      "source": [
        "\n",
        "model_d = LinearRegression()\n",
        "model_d.fit(X_train_d,y_train_d)\n",
        "Results_d = model_d.predict(X_test_d)\n",
        "\n",
        "lr_mse_d = metrics.mean_squared_error(y_test_d, Results_d)\n",
        "lr_r2_d = metrics.r2_score(y_test_d, Results_d)\n",
        "lr_mae_d = metrics.median_absolute_error(y_test_d, Results_d)\n",
        "\n",
        "# Adding results into results dataframe\n",
        "resultsdf = resultsdf.append(Evaluationmatrix_dict(y_test_d,Results_d, name = 'Linear - OneHot'),ignore_index = True)"
      ],
      "execution_count": 36,
      "outputs": []
    },
    {
      "cell_type": "code",
      "metadata": {
        "colab": {
          "base_uri": "https://localhost:8080/"
        },
        "id": "pDtU2GAfe-vV",
        "outputId": "539a8749-29bd-472e-f284-f19e0e1111a5"
      },
      "source": [
        "print(\"For one-hot encoding\")\n",
        "print ('Mean squared error: ' +str(lr_mse_d))\n",
        "print ('Mean absolute error: ' +str(lr_mae_d))\n",
        "print ('r2 score: ' +str(lr_r2_d))\n"
      ],
      "execution_count": 37,
      "outputs": [
        {
          "output_type": "stream",
          "text": [
            "For one-hot encoding\n",
            "Mean squared error: 0.2683475613698153\n",
            "Mean absolute error: 0.2588567760723608\n",
            "r2 score: 0.03146184119544293\n"
          ],
          "name": "stdout"
        }
      ]
    },
    {
      "cell_type": "markdown",
      "metadata": {
        "id": "-yKtAYyFldpb"
      },
      "source": [
        "### With Genres"
      ]
    },
    {
      "cell_type": "code",
      "metadata": {
        "id": "2FpXWnlWGmvI"
      },
      "source": [
        "# Including genre label\n",
        "\n",
        "# Integer encoding\n",
        "X = df.drop(labels = ['Category','Rating','Genres'],axis = 1)\n",
        "y = df.Rating\n",
        "X_train, X_test, y_train, y_test = train_test_split(X, y, test_size=0.30)"
      ],
      "execution_count": 38,
      "outputs": []
    },
    {
      "cell_type": "code",
      "metadata": {
        "id": "X_1XybezhqZB"
      },
      "source": [
        "\n",
        "modela = LinearRegression()\n",
        "modela.fit(X_train,y_train)\n",
        "Resultsa = modela.predict(X_test)\n",
        "\n",
        "lrg_mse = metrics.mean_squared_error(y_test, Resultsa)\n",
        "lrg_r2 = metrics.r2_score(y_test, Resultsa)\n",
        "lrg_mae = metrics.median_absolute_error(y_test, Resultsa)\n",
        "\n",
        "resultsdf = resultsdf.append(Evaluationmatrix_dict(y_test,Resultsa, name = 'Linear(inc Genre) - Integer'),ignore_index = True)\n",
        "\n"
      ],
      "execution_count": 39,
      "outputs": []
    },
    {
      "cell_type": "code",
      "metadata": {
        "colab": {
          "base_uri": "https://localhost:8080/"
        },
        "id": "j8LbgKwbidJf",
        "outputId": "afbd04b5-eb57-4f82-ec24-97e6e994e1ce"
      },
      "source": [
        "print(\"For Integer encoding including genre\")\n",
        "print ('Mean squared error: ' +str(lrg_mse))\n",
        "print ('Mean absolute error: ' +str(lrg_mae))\n",
        "print ('r2 score: ' +str(lrg_r2))"
      ],
      "execution_count": 40,
      "outputs": [
        {
          "output_type": "stream",
          "text": [
            "For Integer encoding including genre\n",
            "Mean squared error: 0.26439120465836724\n",
            "Mean absolute error: 0.272381884645696\n",
            "r2 score: 0.007321711580269397\n"
          ],
          "name": "stdout"
        }
      ]
    },
    {
      "cell_type": "code",
      "metadata": {
        "id": "DkpwKDdtGobu"
      },
      "source": [
        "# One-hot encoding\n",
        "\n",
        "X_d = df2.drop(labels = ['Rating','Genres','Category_c'],axis = 1)\n",
        "y_d = df2.Rating\n",
        "X_train_d, X_test_d, y_train_d, y_test_d = train_test_split(X_d, y_d, test_size=0.30)"
      ],
      "execution_count": 41,
      "outputs": []
    },
    {
      "cell_type": "code",
      "metadata": {
        "id": "nQRSwi2ziRKE"
      },
      "source": [
        "\n",
        "modela_d = LinearRegression()\n",
        "modela_d.fit(X_train_d,y_train_d)\n",
        "Resultsa_d = modela_d.predict(X_test_d)\n",
        "\n",
        "lrg_mse_d = metrics.mean_squared_error(y_test_d, Resultsa_d)\n",
        "lrg_r2_d = metrics.r2_score(y_test_d, Resultsa_d)\n",
        "lrg_mae_d = metrics.median_absolute_error(y_test_d, Resultsa_d)\n",
        "\n",
        "resultsdf = resultsdf.append(Evaluationmatrix_dict(y_test_d,Resultsa_d, name = 'Linear(inc Genre) - OneHot'),ignore_index = True)"
      ],
      "execution_count": 42,
      "outputs": []
    },
    {
      "cell_type": "code",
      "metadata": {
        "colab": {
          "base_uri": "https://localhost:8080/"
        },
        "id": "ZaTbO8_ni50Y",
        "outputId": "87e40fe7-3004-4f44-b2f8-90e46fcbe545"
      },
      "source": [
        "print(\"For one-hot encoding including genres\")\n",
        "print ('Mean squared error: ' +str(lrg_mse_d))\n",
        "print ('Mean absolute error: ' +str(lrg_mae_d))\n",
        "print ('r2 score: ' +str(lrg_r2_d))"
      ],
      "execution_count": 43,
      "outputs": [
        {
          "output_type": "stream",
          "text": [
            "For one-hot encoding including genres\n",
            "Mean squared error: 0.2741509739353218\n",
            "Mean absolute error: 0.25922382386871945\n",
            "r2 score: 0.030919491174046687\n"
          ],
          "name": "stdout"
        }
      ]
    },
    {
      "cell_type": "markdown",
      "metadata": {
        "id": "4inhqDAkjSs4"
      },
      "source": [
        "## Random Forest"
      ]
    },
    {
      "cell_type": "markdown",
      "metadata": {
        "id": "MW8uEoDrlOzO"
      },
      "source": [
        "### Without Genres"
      ]
    },
    {
      "cell_type": "code",
      "metadata": {
        "id": "nuxer-vaGsw6"
      },
      "source": [
        "# Integer encoding\n",
        "X = df.drop(labels = ['Category','Rating','Genres','Genres_c'],axis = 1)\n",
        "y = df.Rating\n",
        "X_train, X_test, y_train, y_test = train_test_split(X, y, test_size=0.30, random_state=10)"
      ],
      "execution_count": 44,
      "outputs": []
    },
    {
      "cell_type": "code",
      "metadata": {
        "id": "gjxMa4adjVrq"
      },
      "source": [
        "\n",
        "model2 = RandomForestRegressor()\n",
        "model2.fit(X_train,y_train)\n",
        "Results2 = model2.predict(X_test)\n",
        "\n",
        "rf_mse = metrics.mean_squared_error(y_test, Results2)\n",
        "rf_r2 = metrics.r2_score(y_test, Results2)\n",
        "rf_mae = metrics.median_absolute_error(y_test, Results2)\n",
        "\n",
        "#evaluation\n",
        "resultsdf = resultsdf.append(Evaluationmatrix_dict(y_test,Results2, name = 'RFR - Integer'),ignore_index = True)\n"
      ],
      "execution_count": 45,
      "outputs": []
    },
    {
      "cell_type": "code",
      "metadata": {
        "colab": {
          "base_uri": "https://localhost:8080/"
        },
        "id": "um8YYM7-kC--",
        "outputId": "99a5281a-e48c-4989-e6bd-3de77208816a"
      },
      "source": [
        "print(\"For Integer encoding\")\n",
        "print ('Mean squared error: ' +str(rf_mse))\n",
        "print ('Mean absolute error: ' +str(rf_mae))\n",
        "print ('r2 score: ' +str(rf_r2))"
      ],
      "execution_count": 46,
      "outputs": [
        {
          "output_type": "stream",
          "text": [
            "For Integer encoding\n",
            "Mean squared error: 0.22361853223557693\n",
            "Mean absolute error: 0.2030000000000003\n",
            "r2 score: 0.13462382108701587\n"
          ],
          "name": "stdout"
        }
      ]
    },
    {
      "cell_type": "code",
      "metadata": {
        "id": "6AEiOdFWGvNl"
      },
      "source": [
        "# One-hot encoding\n",
        "\n",
        "X_d = df2.drop(labels = ['Rating','Genres','Category_c','Genres_c'],axis = 1)\n",
        "y_d = df2.Rating\n",
        "X_train_d, X_test_d, y_train_d, y_test_d = train_test_split(X_d, y_d, test_size=0.30, random_state=10)"
      ],
      "execution_count": 47,
      "outputs": []
    },
    {
      "cell_type": "code",
      "metadata": {
        "id": "K54F0stckdtJ"
      },
      "source": [
        "\n",
        "model2_d = RandomForestRegressor()\n",
        "model2_d.fit(X_train_d,y_train_d)\n",
        "Results2_d = model2_d.predict(X_test_d)\n",
        "\n",
        "rf_mse_d = metrics.mean_squared_error(y_test_d, Results2_d)\n",
        "rf_r2_d = metrics.r2_score(y_test_d, Results2_d)\n",
        "rf_mae_d = metrics.median_absolute_error(y_test_d, Results2_d)\n",
        "\n",
        "\n",
        "#evaluation\n",
        "resultsdf = resultsdf.append(Evaluationmatrix_dict(y_test,Results2_d, name = 'RFR - OneHot'),ignore_index = True)"
      ],
      "execution_count": 48,
      "outputs": []
    },
    {
      "cell_type": "code",
      "metadata": {
        "colab": {
          "base_uri": "https://localhost:8080/"
        },
        "id": "buIGpT5_keMq",
        "outputId": "5a4ae906-c477-4a8e-e495-73eab65f72f5"
      },
      "source": [
        "print(\"For one-hot encoding\")\n",
        "print ('Mean squared error: ' +str(rf_mse_d))\n",
        "print ('Mean absolute error: ' +str(rf_mae_d))\n",
        "print ('r2 score: ' +str(rf_r2_d))\n"
      ],
      "execution_count": 49,
      "outputs": [
        {
          "output_type": "stream",
          "text": [
            "For one-hot encoding\n",
            "Mean squared error: 0.22713084438859887\n",
            "Mean absolute error: 0.1994999999999978\n",
            "r2 score: 0.12103160563087567\n"
          ],
          "name": "stdout"
        }
      ]
    },
    {
      "cell_type": "markdown",
      "metadata": {
        "id": "lUz_Sb3nlTaB"
      },
      "source": [
        "### With Genres"
      ]
    },
    {
      "cell_type": "code",
      "metadata": {
        "id": "Hz4n3wqJGxw0"
      },
      "source": [
        "# Including Genres\n",
        "\n",
        "# Integer encoding\n",
        "X = df.drop(labels = ['Category','Rating','Genres'],axis = 1)\n",
        "y = df.Rating\n",
        "X_train, X_test, y_train, y_test = train_test_split(X, y, test_size=0.30,random_state=10)"
      ],
      "execution_count": 50,
      "outputs": []
    },
    {
      "cell_type": "code",
      "metadata": {
        "id": "nJMpFYpdlVp5"
      },
      "source": [
        "\n",
        "model2a = RandomForestRegressor()\n",
        "model2a.fit(X_train,y_train)\n",
        "Results2a = model2a.predict(X_test)\n",
        "\n",
        "rfg_mse = metrics.mean_squared_error(y_test, Results2a)\n",
        "rfg_r2 = metrics.r2_score(y_test, Results2a)\n",
        "rfg_mae = metrics.median_absolute_error(y_test, Results2a)\n",
        "\n",
        "\n",
        "# Evaluation\n",
        "resultsdf = resultsdf.append(Evaluationmatrix_dict(y_test,Results2a, name = 'RFR(inc Genres) - Integer'),ignore_index = True)\n",
        "\n"
      ],
      "execution_count": 51,
      "outputs": []
    },
    {
      "cell_type": "code",
      "metadata": {
        "colab": {
          "base_uri": "https://localhost:8080/"
        },
        "id": "ARmJuFX4l3Vl",
        "outputId": "90b306b0-1f61-4fa3-dc35-1f7617223527"
      },
      "source": [
        "print(\"For Integer encoding including genre\")\n",
        "print ('Mean squared error: ' +str(rfg_mse))\n",
        "print ('Mean absolute error: ' +str(rfg_mae))\n",
        "print ('r2 score: ' +str(rfg_r2))"
      ],
      "execution_count": 52,
      "outputs": [
        {
          "output_type": "stream",
          "text": [
            "For Integer encoding including genre\n",
            "Mean squared error: 0.22263563654981156\n",
            "Mean absolute error: 0.2049999999999994\n",
            "r2 score: 0.13842750633758183\n"
          ],
          "name": "stdout"
        }
      ]
    },
    {
      "cell_type": "code",
      "metadata": {
        "id": "w3hl54CHG0Pc"
      },
      "source": [
        "# One-hot encoding\n",
        "\n",
        "X_d = df2.drop(labels = ['Rating','Genres','Category_c'],axis = 1)\n",
        "y_d = df2.Rating\n",
        "X_train_d, X_test_d, y_train_d, y_test_d = train_test_split(X_d, y_d, test_size=0.30,random_state=10)"
      ],
      "execution_count": 53,
      "outputs": []
    },
    {
      "cell_type": "code",
      "metadata": {
        "id": "VYQP7Ii5l2y6"
      },
      "source": [
        "\n",
        "model2a_d = RandomForestRegressor()\n",
        "model2a_d.fit(X_train_d,y_train_d)\n",
        "Results2a_d = model2a_d.predict(X_test_d)\n",
        "\n",
        "rfg_mse_d = metrics.mean_squared_error(y_test_d, Results2a_d)\n",
        "rfg_r2_d = metrics.r2_score(y_test_d, Results2a_d)\n",
        "rfg_mae_d = metrics.median_absolute_error(y_test_d, Results2a_d)\n",
        "\n",
        "# Evaluation\n",
        "resultsdf = resultsdf.append(Evaluationmatrix_dict(y_test,Results2a_d, name = 'RFR(inc Genres) - OneHot'),ignore_index = True)"
      ],
      "execution_count": 54,
      "outputs": []
    },
    {
      "cell_type": "code",
      "metadata": {
        "colab": {
          "base_uri": "https://localhost:8080/"
        },
        "id": "gw_I8ciSl7LD",
        "outputId": "2666d8cc-2254-4571-f0be-1436b818817c"
      },
      "source": [
        "print(\"For one-hot encoding including genres\")\n",
        "print ('Mean squared error: ' +str(rfg_mse_d))\n",
        "print ('Mean absolute error: ' +str(rfg_mae_d))\n",
        "print ('r2 score: ' +str(rfg_r2_d))"
      ],
      "execution_count": 55,
      "outputs": [
        {
          "output_type": "stream",
          "text": [
            "For one-hot encoding including genres\n",
            "Mean squared error: 0.22071772471984807\n",
            "Mean absolute error: 0.20099999999999785\n",
            "r2 score: 0.1458495889096888\n"
          ],
          "name": "stdout"
        }
      ]
    },
    {
      "cell_type": "markdown",
      "metadata": {
        "id": "PiycY3KDo8cL"
      },
      "source": [
        "## SVR"
      ]
    },
    {
      "cell_type": "markdown",
      "metadata": {
        "id": "AFwMnqFIo-bI"
      },
      "source": [
        "### Without Genres"
      ]
    },
    {
      "cell_type": "code",
      "metadata": {
        "id": "2Yy5mID2G2ss"
      },
      "source": [
        "#Integer encoding\n",
        "\n",
        "X = df.drop(labels = ['Category','Rating','Genres','Genres_c'],axis = 1)\n",
        "y = df.Rating\n",
        "X_train, X_test, y_train, y_test = train_test_split(X, y, test_size=0.30)"
      ],
      "execution_count": 56,
      "outputs": []
    },
    {
      "cell_type": "code",
      "metadata": {
        "id": "YBWdsfO9pGUq"
      },
      "source": [
        "\n",
        "\n",
        "model3 = svm.SVR()\n",
        "model3.fit(X_train,y_train)\n",
        "Results3 = model3.predict(X_test)\n",
        "\n",
        "svr_mse = metrics.mean_squared_error(y_test, Results3)\n",
        "svr_r2 = metrics.r2_score(y_test, Results3)\n",
        "svr_mae = metrics.median_absolute_error(y_test, Results3)\n",
        "\n",
        "# Evaluation \n",
        "resultsdf = resultsdf.append(Evaluationmatrix_dict(y_test,Results3, name = 'SVR - Integer'),ignore_index = True)\n",
        "\n"
      ],
      "execution_count": 57,
      "outputs": []
    },
    {
      "cell_type": "code",
      "metadata": {
        "colab": {
          "base_uri": "https://localhost:8080/"
        },
        "id": "AKvG2XGhp5N9",
        "outputId": "b17c67f1-380d-49ba-bb47-50df56731f05"
      },
      "source": [
        "print(\"For Integer encoding\")\n",
        "print ('Mean squared error: ' +str(svr_mse))\n",
        "print ('Mean absolute error: ' +str(svr_mae))\n",
        "print ('r2 score: ' +str(svr_r2))"
      ],
      "execution_count": 58,
      "outputs": [
        {
          "output_type": "stream",
          "text": [
            "For Integer encoding\n",
            "Mean squared error: 0.27047818904576515\n",
            "Mean absolute error: 0.24477422326208487\n",
            "r2 score: 0.007350740607242279\n"
          ],
          "name": "stdout"
        }
      ]
    },
    {
      "cell_type": "code",
      "metadata": {
        "id": "5svnqgeTG5rw"
      },
      "source": [
        "# One-hot encoding\n",
        "\n",
        "X_d = df2.drop(labels = ['Rating','Genres','Category_c','Genres_c'],axis = 1)\n",
        "y_d = df2.Rating\n",
        "\n",
        "X_train_d, X_test_d, y_train_d, y_test_d = train_test_split(X_d, y_d, test_size=0.30)"
      ],
      "execution_count": 59,
      "outputs": []
    },
    {
      "cell_type": "code",
      "metadata": {
        "id": "2CxvB6oApfER"
      },
      "source": [
        "\n",
        "\n",
        "model3 = svm.SVR()\n",
        "model3.fit(X_train_d,y_train_d)\n",
        "Results3_d = model3.predict(X_test_d)\n",
        "\n",
        "svr_mse_d = metrics.mean_squared_error(y_test_d, Results3_d)\n",
        "svr_r2_d = metrics.r2_score(y_test_d, Results3_d)\n",
        "svr_mae_d = metrics.median_absolute_error(y_test_d, Results3_d)\n",
        "\n",
        "# Evaluation \n",
        "resultsdf = resultsdf.append(Evaluationmatrix_dict(y_test_d,Results3_d, name = 'SVR - OneHot'),ignore_index = True)"
      ],
      "execution_count": 60,
      "outputs": []
    },
    {
      "cell_type": "code",
      "metadata": {
        "colab": {
          "base_uri": "https://localhost:8080/"
        },
        "id": "z8YuDMPSqhUr",
        "outputId": "80d72a14-682d-4e3c-c08d-0333437e459b"
      },
      "source": [
        "print(\"For one-hot encoding\")\n",
        "print ('Mean squared error: ' +str(svr_mse_d))\n",
        "print ('Mean absolute error: ' +str(svr_mae_d))\n",
        "print ('r2 score: ' +str(svr_r2_d))"
      ],
      "execution_count": 61,
      "outputs": [
        {
          "output_type": "stream",
          "text": [
            "For one-hot encoding\n",
            "Mean squared error: 0.23530105357229703\n",
            "Mean absolute error: 0.24777316751651046\n",
            "r2 score: 0.01856761604823609\n"
          ],
          "name": "stdout"
        }
      ]
    },
    {
      "cell_type": "markdown",
      "metadata": {
        "id": "jtfwWT8CpGwR"
      },
      "source": [
        "### With Genres"
      ]
    },
    {
      "cell_type": "code",
      "metadata": {
        "id": "L8kLs700G77o"
      },
      "source": [
        "# Integer encoding, including Genres\n",
        "\n",
        "X = df.drop(labels = ['Category','Rating','Genres'],axis = 1)\n",
        "y = df.Rating\n",
        "\n",
        "X_train, X_test, y_train, y_test = train_test_split(X, y, test_size=0.30)"
      ],
      "execution_count": 62,
      "outputs": []
    },
    {
      "cell_type": "code",
      "metadata": {
        "id": "Pq8dx0pppKgT"
      },
      "source": [
        "\n",
        "model3a = svm.SVR()\n",
        "model3a.fit(X_train,y_train)\n",
        "Results3a = model3a.predict(X_test)\n",
        "\n",
        "svr_mse = metrics.mean_squared_error(y_test, Results3a)\n",
        "svr_r2 = metrics.r2_score(y_test, Results3a)\n",
        "svr_mae = metrics.median_absolute_error(y_test, Results3a)\n",
        "\n",
        "#evaluation\n",
        "resultsdf = resultsdf.append(Evaluationmatrix_dict(y_test,Results3a, name = 'SVR(inc Genres) - Integer'),ignore_index = True)\n",
        "\n"
      ],
      "execution_count": 63,
      "outputs": []
    },
    {
      "cell_type": "code",
      "metadata": {
        "colab": {
          "base_uri": "https://localhost:8080/"
        },
        "id": "0ehJW0c1rNGK",
        "outputId": "9a1625eb-f3d7-47ff-c9ac-1c292e409fe7"
      },
      "source": [
        "print(\"For Integer encoding including genre\")\n",
        "print ('Mean squared error: ' +str(svr_mse))\n",
        "print ('Mean absolute error: ' +str(svr_mae))\n",
        "print ('r2 score: ' +str(svr_r2))"
      ],
      "execution_count": 64,
      "outputs": [
        {
          "output_type": "stream",
          "text": [
            "For Integer encoding including genre\n",
            "Mean squared error: 0.2411660386258848\n",
            "Mean absolute error: 0.21965410424382492\n",
            "r2 score: 0.017964946181750707\n"
          ],
          "name": "stdout"
        }
      ]
    },
    {
      "cell_type": "code",
      "metadata": {
        "id": "qQhBc9prG96d"
      },
      "source": [
        "# One-hot encoding, including Genres\n",
        "\n",
        "X_d = df2.drop(labels = ['Rating','Genres','Category_c'],axis = 1)\n",
        "y_d = df2.Rating\n",
        "\n",
        "X_train_d, X_test_d, y_train_d, y_test_d = train_test_split(X_d, y_d, test_size=0.30)"
      ],
      "execution_count": 65,
      "outputs": []
    },
    {
      "cell_type": "code",
      "metadata": {
        "id": "LX3I8jDrrL7Z"
      },
      "source": [
        "\n",
        "model3a = svm.SVR()\n",
        "model3a.fit(X_train_d,y_train_d)\n",
        "Results3a_d = model3a.predict(X_test_d)\n",
        "\n",
        "svr_mse_d = metrics.mean_squared_error(y_test_d, Results3a_d)\n",
        "svr_r2_d = metrics.r2_score(y_test_d, Results3a_d)\n",
        "svr_mae_d = metrics.median_absolute_error(y_test_d, Results3a_d)\n",
        "\n",
        "#evaluation\n",
        "resultsdf = resultsdf.append(Evaluationmatrix_dict(y_test_d,Results3a_d, name = 'SVR(inc Genres) - OneHot'),ignore_index = True)"
      ],
      "execution_count": 66,
      "outputs": []
    },
    {
      "cell_type": "code",
      "metadata": {
        "colab": {
          "base_uri": "https://localhost:8080/"
        },
        "id": "rgokGCVmrNov",
        "outputId": "11e23734-c4dd-41cc-c642-b09d72805daa"
      },
      "source": [
        "print(\"For one-hot encoding including genres\")\n",
        "print ('Mean squared error: ' +str(svr_mse_d*100))\n",
        "print ('Mean absolute error: ' +str(svr_mae_d*100))\n",
        "print ('r2 score: ' +str(svr_r2_d*100))"
      ],
      "execution_count": 67,
      "outputs": [
        {
          "output_type": "stream",
          "text": [
            "For one-hot encoding including genres\n",
            "Mean squared error: 26.13223308832585\n",
            "Mean absolute error: 23.73382582177723\n",
            "r2 score: 0.09470708147440998\n"
          ],
          "name": "stdout"
        }
      ]
    },
    {
      "cell_type": "markdown",
      "metadata": {
        "id": "W2J-Wqo7STc3"
      },
      "source": [
        "## Deep neural network (DNN)\n",
        "* Use MLPRegressor from the sklearn.neural_network"
      ]
    },
    {
      "cell_type": "markdown",
      "metadata": {
        "id": "2Ufn6PRgWiX8"
      },
      "source": [
        "### Without Generes"
      ]
    },
    {
      "cell_type": "code",
      "metadata": {
        "id": "sQZIJZP6SSkp"
      },
      "source": [
        "# Integer encoding - without generes\n",
        "X = df.drop(labels = ['Category','Rating','Genres','Genres_c'],axis = 1)\n",
        "y = df.Rating\n",
        "X_train, X_test, y_train, y_test = train_test_split(X, y, test_size=0.30, random_state=10)"
      ],
      "execution_count": 68,
      "outputs": []
    },
    {
      "cell_type": "code",
      "metadata": {
        "colab": {
          "base_uri": "https://localhost:8080/"
        },
        "id": "WXdOuckKhQza",
        "outputId": "16a2d465-5720-4617-c859-35421c228f6e"
      },
      "source": [
        "X.shape,y.shape"
      ],
      "execution_count": 69,
      "outputs": [
        {
          "output_type": "execute_result",
          "data": {
            "text/plain": [
              "((9360, 7), (9360,))"
            ]
          },
          "metadata": {
            "tags": []
          },
          "execution_count": 69
        }
      ]
    },
    {
      "cell_type": "code",
      "metadata": {
        "colab": {
          "base_uri": "https://localhost:8080/",
          "height": 204
        },
        "id": "3sYO59Kshrew",
        "outputId": "422b95d3-5acd-4176-dbc5-ef9cf1fc55a9"
      },
      "source": [
        "X.head()"
      ],
      "execution_count": 70,
      "outputs": [
        {
          "output_type": "execute_result",
          "data": {
            "text/html": [
              "<div>\n",
              "<style scoped>\n",
              "    .dataframe tbody tr th:only-of-type {\n",
              "        vertical-align: middle;\n",
              "    }\n",
              "\n",
              "    .dataframe tbody tr th {\n",
              "        vertical-align: top;\n",
              "    }\n",
              "\n",
              "    .dataframe thead th {\n",
              "        text-align: right;\n",
              "    }\n",
              "</style>\n",
              "<table border=\"1\" class=\"dataframe\">\n",
              "  <thead>\n",
              "    <tr style=\"text-align: right;\">\n",
              "      <th></th>\n",
              "      <th>Reviews</th>\n",
              "      <th>Size</th>\n",
              "      <th>Installs</th>\n",
              "      <th>Type</th>\n",
              "      <th>Price</th>\n",
              "      <th>Content Rating</th>\n",
              "      <th>Category_c</th>\n",
              "    </tr>\n",
              "  </thead>\n",
              "  <tbody>\n",
              "    <tr>\n",
              "      <th>0</th>\n",
              "      <td>159</td>\n",
              "      <td>19000000.0</td>\n",
              "      <td>10000</td>\n",
              "      <td>0</td>\n",
              "      <td>0.0</td>\n",
              "      <td>0</td>\n",
              "      <td>0</td>\n",
              "    </tr>\n",
              "    <tr>\n",
              "      <th>1</th>\n",
              "      <td>967</td>\n",
              "      <td>14000000.0</td>\n",
              "      <td>500000</td>\n",
              "      <td>0</td>\n",
              "      <td>0.0</td>\n",
              "      <td>0</td>\n",
              "      <td>0</td>\n",
              "    </tr>\n",
              "    <tr>\n",
              "      <th>2</th>\n",
              "      <td>87510</td>\n",
              "      <td>8700000.0</td>\n",
              "      <td>5000000</td>\n",
              "      <td>0</td>\n",
              "      <td>0.0</td>\n",
              "      <td>0</td>\n",
              "      <td>0</td>\n",
              "    </tr>\n",
              "    <tr>\n",
              "      <th>3</th>\n",
              "      <td>215644</td>\n",
              "      <td>25000000.0</td>\n",
              "      <td>50000000</td>\n",
              "      <td>0</td>\n",
              "      <td>0.0</td>\n",
              "      <td>1</td>\n",
              "      <td>0</td>\n",
              "    </tr>\n",
              "    <tr>\n",
              "      <th>4</th>\n",
              "      <td>967</td>\n",
              "      <td>2800000.0</td>\n",
              "      <td>100000</td>\n",
              "      <td>0</td>\n",
              "      <td>0.0</td>\n",
              "      <td>0</td>\n",
              "      <td>0</td>\n",
              "    </tr>\n",
              "  </tbody>\n",
              "</table>\n",
              "</div>"
            ],
            "text/plain": [
              "   Reviews        Size  Installs  Type  Price  Content Rating  Category_c\n",
              "0      159  19000000.0     10000     0    0.0               0           0\n",
              "1      967  14000000.0    500000     0    0.0               0           0\n",
              "2    87510   8700000.0   5000000     0    0.0               0           0\n",
              "3   215644  25000000.0  50000000     0    0.0               1           0\n",
              "4      967   2800000.0    100000     0    0.0               0           0"
            ]
          },
          "metadata": {
            "tags": []
          },
          "execution_count": 70
        }
      ]
    },
    {
      "cell_type": "code",
      "metadata": {
        "colab": {
          "base_uri": "https://localhost:8080/"
        },
        "id": "HoZvZFS4hyoz",
        "outputId": "ff0253cb-0c3c-4aa4-96f4-1e3859e68d9b"
      },
      "source": [
        "y.head()"
      ],
      "execution_count": 71,
      "outputs": [
        {
          "output_type": "execute_result",
          "data": {
            "text/plain": [
              "0    4.1\n",
              "1    3.9\n",
              "2    4.7\n",
              "3    4.5\n",
              "4    4.3\n",
              "Name: Rating, dtype: float64"
            ]
          },
          "metadata": {
            "tags": []
          },
          "execution_count": 71
        }
      ]
    },
    {
      "cell_type": "code",
      "metadata": {
        "id": "WdOuPnNRpOcY"
      },
      "source": [
        "\n",
        "demomodel = MLPRegressor(hidden_layer_sizes=(100,100,70,40),max_iter=30,random_state=1,activation='tanh')\n",
        "demomodel.fit(X_train,y_train)\n",
        "demoresult = demomodel.predict(X_test)\n",
        "\n",
        "dnn_mse = metrics.mean_squared_error(y_test, demoresult)\n",
        "dnn_r2 = metrics.r2_score(y_test,demoresult)\n",
        "dnn_mae = metrics.median_absolute_error(y_test, demoresult)\n",
        "\n",
        "#evaluation\n",
        "resultsdf = resultsdf.append(Evaluationmatrix_dict(y_test_d,demoresult, name = 'DNN - Integer'),ignore_index = True)"
      ],
      "execution_count": 72,
      "outputs": []
    },
    {
      "cell_type": "code",
      "metadata": {
        "colab": {
          "base_uri": "https://localhost:8080/"
        },
        "id": "nuK5ckWVShEP",
        "outputId": "d915339d-52d2-478d-e971-ace1d98f53b4"
      },
      "source": [
        "print(\"nn - For Integer encoding - without genres\")\n",
        "print ('Mean squared error: ' +str(dnn_mse))\n",
        "print ('Mean absolute error: ' +str(dnn_mae))\n",
        "print ('r2 score: ' +str(dnn_r2))"
      ],
      "execution_count": 73,
      "outputs": [
        {
          "output_type": "stream",
          "text": [
            "nn - For Integer encoding - without genres\n",
            "Mean squared error: 0.2538203814820588\n",
            "Mean absolute error: 0.237830486649643\n",
            "r2 score: 0.01774638416021912\n"
          ],
          "name": "stdout"
        }
      ]
    },
    {
      "cell_type": "code",
      "metadata": {
        "colab": {
          "base_uri": "https://localhost:8080/",
          "height": 419
        },
        "id": "sUwOclhYpSHG",
        "outputId": "e386535f-292d-4cb9-8877-b6d07f98a91e"
      },
      "source": [
        "X_test"
      ],
      "execution_count": 74,
      "outputs": [
        {
          "output_type": "execute_result",
          "data": {
            "text/html": [
              "<div>\n",
              "<style scoped>\n",
              "    .dataframe tbody tr th:only-of-type {\n",
              "        vertical-align: middle;\n",
              "    }\n",
              "\n",
              "    .dataframe tbody tr th {\n",
              "        vertical-align: top;\n",
              "    }\n",
              "\n",
              "    .dataframe thead th {\n",
              "        text-align: right;\n",
              "    }\n",
              "</style>\n",
              "<table border=\"1\" class=\"dataframe\">\n",
              "  <thead>\n",
              "    <tr style=\"text-align: right;\">\n",
              "      <th></th>\n",
              "      <th>Reviews</th>\n",
              "      <th>Size</th>\n",
              "      <th>Installs</th>\n",
              "      <th>Type</th>\n",
              "      <th>Price</th>\n",
              "      <th>Content Rating</th>\n",
              "      <th>Category_c</th>\n",
              "    </tr>\n",
              "  </thead>\n",
              "  <tbody>\n",
              "    <tr>\n",
              "      <th>6523</th>\n",
              "      <td>30</td>\n",
              "      <td>721000.0</td>\n",
              "      <td>5000</td>\n",
              "      <td>0</td>\n",
              "      <td>0.0</td>\n",
              "      <td>0</td>\n",
              "      <td>15</td>\n",
              "    </tr>\n",
              "    <tr>\n",
              "      <th>754</th>\n",
              "      <td>11904</td>\n",
              "      <td>1800000.0</td>\n",
              "      <td>1000000</td>\n",
              "      <td>0</td>\n",
              "      <td>0.0</td>\n",
              "      <td>0</td>\n",
              "      <td>8</td>\n",
              "    </tr>\n",
              "    <tr>\n",
              "      <th>6845</th>\n",
              "      <td>1004709</td>\n",
              "      <td>20000000.0</td>\n",
              "      <td>50000000</td>\n",
              "      <td>0</td>\n",
              "      <td>0.0</td>\n",
              "      <td>1</td>\n",
              "      <td>17</td>\n",
              "    </tr>\n",
              "    <tr>\n",
              "      <th>175</th>\n",
              "      <td>1322</td>\n",
              "      <td>3500000.0</td>\n",
              "      <td>100000</td>\n",
              "      <td>0</td>\n",
              "      <td>0.0</td>\n",
              "      <td>0</td>\n",
              "      <td>3</td>\n",
              "    </tr>\n",
              "    <tr>\n",
              "      <th>4268</th>\n",
              "      <td>28</td>\n",
              "      <td>98000000.0</td>\n",
              "      <td>1000</td>\n",
              "      <td>0</td>\n",
              "      <td>0.0</td>\n",
              "      <td>0</td>\n",
              "      <td>18</td>\n",
              "    </tr>\n",
              "    <tr>\n",
              "      <th>...</th>\n",
              "      <td>...</td>\n",
              "      <td>...</td>\n",
              "      <td>...</td>\n",
              "      <td>...</td>\n",
              "      <td>...</td>\n",
              "      <td>...</td>\n",
              "      <td>...</td>\n",
              "    </tr>\n",
              "    <tr>\n",
              "      <th>2659</th>\n",
              "      <td>38961</td>\n",
              "      <td>27000000.0</td>\n",
              "      <td>5000000</td>\n",
              "      <td>0</td>\n",
              "      <td>0.0</td>\n",
              "      <td>0</td>\n",
              "      <td>21</td>\n",
              "    </tr>\n",
              "    <tr>\n",
              "      <th>2213</th>\n",
              "      <td>95537</td>\n",
              "      <td>58000000.0</td>\n",
              "      <td>10000000</td>\n",
              "      <td>0</td>\n",
              "      <td>0.0</td>\n",
              "      <td>0</td>\n",
              "      <td>18</td>\n",
              "    </tr>\n",
              "    <tr>\n",
              "      <th>7354</th>\n",
              "      <td>66</td>\n",
              "      <td>8100000.0</td>\n",
              "      <td>1000</td>\n",
              "      <td>0</td>\n",
              "      <td>0.0</td>\n",
              "      <td>0</td>\n",
              "      <td>16</td>\n",
              "    </tr>\n",
              "    <tr>\n",
              "      <th>5001</th>\n",
              "      <td>17263</td>\n",
              "      <td>18000000.0</td>\n",
              "      <td>500000</td>\n",
              "      <td>0</td>\n",
              "      <td>0.0</td>\n",
              "      <td>0</td>\n",
              "      <td>17</td>\n",
              "    </tr>\n",
              "    <tr>\n",
              "      <th>1944</th>\n",
              "      <td>696</td>\n",
              "      <td>48000000.0</td>\n",
              "      <td>100000</td>\n",
              "      <td>0</td>\n",
              "      <td>0.0</td>\n",
              "      <td>0</td>\n",
              "      <td>17</td>\n",
              "    </tr>\n",
              "  </tbody>\n",
              "</table>\n",
              "<p>2808 rows × 7 columns</p>\n",
              "</div>"
            ],
            "text/plain": [
              "      Reviews        Size  Installs  Type  Price  Content Rating  Category_c\n",
              "6523       30    721000.0      5000     0    0.0               0          15\n",
              "754     11904   1800000.0   1000000     0    0.0               0           8\n",
              "6845  1004709  20000000.0  50000000     0    0.0               1          17\n",
              "175      1322   3500000.0    100000     0    0.0               0           3\n",
              "4268       28  98000000.0      1000     0    0.0               0          18\n",
              "...       ...         ...       ...   ...    ...             ...         ...\n",
              "2659    38961  27000000.0   5000000     0    0.0               0          21\n",
              "2213    95537  58000000.0  10000000     0    0.0               0          18\n",
              "7354       66   8100000.0      1000     0    0.0               0          16\n",
              "5001    17263  18000000.0    500000     0    0.0               0          17\n",
              "1944      696  48000000.0    100000     0    0.0               0          17\n",
              "\n",
              "[2808 rows x 7 columns]"
            ]
          },
          "metadata": {
            "tags": []
          },
          "execution_count": 74
        }
      ]
    },
    {
      "cell_type": "code",
      "metadata": {
        "colab": {
          "base_uri": "https://localhost:8080/"
        },
        "id": "0vz89TVXqVnA",
        "outputId": "85f84211-43bf-462b-9d01-30ca8cf6f32d"
      },
      "source": [
        "demoresult"
      ],
      "execution_count": 75,
      "outputs": [
        {
          "output_type": "execute_result",
          "data": {
            "text/plain": [
              "array([4.16932628, 4.27491141, 4.33522587, ..., 4.16932628, 4.16932628,\n",
              "       4.16932628])"
            ]
          },
          "metadata": {
            "tags": []
          },
          "execution_count": 75
        }
      ]
    },
    {
      "cell_type": "code",
      "metadata": {
        "colab": {
          "base_uri": "https://localhost:8080/"
        },
        "id": "QtxbzWEjqZ-Q",
        "outputId": "71794864-4b1d-4697-e608-0a30f3f748e5"
      },
      "source": [
        "X_test.shape,demoresult.shape"
      ],
      "execution_count": 76,
      "outputs": [
        {
          "output_type": "execute_result",
          "data": {
            "text/plain": [
              "((2808, 7), (2808,))"
            ]
          },
          "metadata": {
            "tags": []
          },
          "execution_count": 76
        }
      ]
    },
    {
      "cell_type": "code",
      "metadata": {
        "colab": {
          "base_uri": "https://localhost:8080/"
        },
        "id": "BIo8hN0xqiEc",
        "outputId": "9dd8c88e-3bc1-40a3-fa0f-482c17d9b966"
      },
      "source": [
        "y_test"
      ],
      "execution_count": 77,
      "outputs": [
        {
          "output_type": "execute_result",
          "data": {
            "text/plain": [
              "6523    4.4\n",
              "754     4.3\n",
              "6845    4.3\n",
              "175     4.4\n",
              "4268    3.9\n",
              "       ... \n",
              "2659    4.3\n",
              "2213    3.9\n",
              "7354    4.9\n",
              "5001    4.5\n",
              "1944    4.5\n",
              "Name: Rating, Length: 2808, dtype: float64"
            ]
          },
          "metadata": {
            "tags": []
          },
          "execution_count": 77
        }
      ]
    },
    {
      "cell_type": "code",
      "metadata": {
        "id": "_BT3OOaOqq5q"
      },
      "source": [
        "# One-hot encoding\n",
        "\n",
        "X_d = df2.drop(labels = ['Rating','Genres','Category_c','Genres_c'],axis = 1)\n",
        "y_d = df2.Rating\n",
        "X_train_d, X_test_d, y_train_d, y_test_d = train_test_split(X_d, y_d, test_size=0.30, random_state=10)"
      ],
      "execution_count": 78,
      "outputs": []
    },
    {
      "cell_type": "code",
      "metadata": {
        "id": "4XUZQP0ISqhi"
      },
      "source": [
        "demomodel_d = MLPRegressor(hidden_layer_sizes=(100,100,70,40),max_iter=30,random_state=1,activation='tanh')\n",
        "demomodel_d.fit(X_train_d,y_train_d)\n",
        "demoresult_d = demomodel_d.predict(X_test_d)\n",
        "\n",
        "dnn_mse_d = metrics.mean_squared_error(y_test, demoresult_d)\n",
        "dnn_r2_d = metrics.r2_score(y_test,demoresult_d)\n",
        "dnn_mae_d = metrics.median_absolute_error(y_test, demoresult_d)\n",
        "#evaluation\n",
        "resultsdf = resultsdf.append(Evaluationmatrix_dict(y_test_d,demoresult_d, name = 'DNN - OneHot'),ignore_index = True)"
      ],
      "execution_count": 79,
      "outputs": []
    },
    {
      "cell_type": "code",
      "metadata": {
        "colab": {
          "base_uri": "https://localhost:8080/"
        },
        "id": "9erBadQbSu5E",
        "outputId": "5c1a0013-4dc2-4482-be28-43d495fc6bc9"
      },
      "source": [
        "print(\"dnn - For one-hot encoding - without genres\")\n",
        "print ('Mean squared error: ' +str(dnn_mse_d))\n",
        "print ('Mean absolute error: ' +str(dnn_mae_d))\n",
        "print ('r2 score: ' +str(dnn_r2_d))"
      ],
      "execution_count": 80,
      "outputs": [
        {
          "output_type": "stream",
          "text": [
            "dnn - For one-hot encoding - without genres\n",
            "Mean squared error: 0.2591521312843011\n",
            "Mean absolute error: 0.2839908828262665\n",
            "r2 score: -0.0028868309166232287\n"
          ],
          "name": "stdout"
        }
      ]
    },
    {
      "cell_type": "markdown",
      "metadata": {
        "id": "31VEYK8xWm_y"
      },
      "source": [
        "### With Generes"
      ]
    },
    {
      "cell_type": "code",
      "metadata": {
        "id": "UcLjv6etVqP0"
      },
      "source": [
        "# Integer encoding, including Genres\n",
        "\n",
        "X = df.drop(labels = ['Category','Rating','Genres'],axis = 1)\n",
        "y = df.Rating\n",
        "\n",
        "X_train, X_test, y_train, y_test = train_test_split(X, y, test_size=0.30)"
      ],
      "execution_count": 81,
      "outputs": []
    },
    {
      "cell_type": "code",
      "metadata": {
        "id": "EW09pJHoW0nx"
      },
      "source": [
        "demomodela = MLPRegressor(hidden_layer_sizes=(100,100,70,40),max_iter=30,random_state=1,activation='tanh')\n",
        "demomodela.fit(X_train,y_train)\n",
        "demoresulta = demomodela.predict(X_test)\n",
        "\n",
        "dnna_mse = metrics.mean_squared_error(y_test, demoresulta)\n",
        "dnna_r2 = metrics.r2_score(y_test,demoresulta)\n",
        "dnna_mae = metrics.median_absolute_error(y_test, demoresulta)\n",
        "\n",
        "#evaluation\n",
        "resultsdf = resultsdf.append(Evaluationmatrix_dict(y_test_d,demoresulta, name = 'DNN(with genres) - Integer'),ignore_index = True)"
      ],
      "execution_count": 82,
      "outputs": []
    },
    {
      "cell_type": "code",
      "metadata": {
        "colab": {
          "base_uri": "https://localhost:8080/"
        },
        "id": "PW-g2ZKtW0bb",
        "outputId": "5bf9e939-12ba-43a0-b45f-77e2ff68c683"
      },
      "source": [
        "print(\"nn - For Integer encoding - with genres\")\n",
        "print ('Mean squared error: ' +str(dnna_mse))\n",
        "print ('Mean absolute error: ' +str(dnna_mae))\n",
        "print ('r2 score: ' +str(dnna_r2))"
      ],
      "execution_count": 83,
      "outputs": [
        {
          "output_type": "stream",
          "text": [
            "nn - For Integer encoding - with genres\n",
            "Mean squared error: 0.25447504900243517\n",
            "Mean absolute error: 0.2854419513232487\n",
            "r2 score: 0.004402259870342595\n"
          ],
          "name": "stdout"
        }
      ]
    },
    {
      "cell_type": "code",
      "metadata": {
        "id": "HTXse_8YWzxz"
      },
      "source": [
        "# One-hot encoding, including Genres\n",
        "\n",
        "X_d = df2.drop(labels = ['Rating','Genres','Category_c'],axis = 1)\n",
        "y_d = df2.Rating\n",
        "\n",
        "X_train_d, X_test_d, y_train_d, y_test_d = train_test_split(X_d, y_d, test_size=0.30)"
      ],
      "execution_count": 84,
      "outputs": []
    },
    {
      "cell_type": "code",
      "metadata": {
        "id": "pvqUuaL5XGmp"
      },
      "source": [
        "demomodela_d = MLPRegressor(hidden_layer_sizes=(100,100,70,40),max_iter=30,random_state=1,activation='tanh')\n",
        "demomodela_d.fit(X_train_d,y_train_d)\n",
        "demoresulta_d = demomodela_d.predict(X_test_d)\n",
        "\n",
        "dnna_mse_d = metrics.mean_squared_error(y_test, demoresulta_d)\n",
        "dnna_r2_d = metrics.r2_score(y_test,demoresulta_d)\n",
        "dnna_mae_d = metrics.median_absolute_error(y_test, demoresulta_d)\n",
        "\n",
        "#evaluation\n",
        "resultsdf = resultsdf.append(Evaluationmatrix_dict(y_test_d,demoresulta_d, name = 'DNN(with genres) - OneHot'),ignore_index = True)"
      ],
      "execution_count": 85,
      "outputs": []
    },
    {
      "cell_type": "code",
      "metadata": {
        "colab": {
          "base_uri": "https://localhost:8080/"
        },
        "id": "yISLUowgXHNX",
        "outputId": "d866b196-2e67-4895-e752-0a6ebb003ecf"
      },
      "source": [
        "print(\"dnn - For one-hot encoding - with genres\")\n",
        "print ('Mean squared error: ' +str(dnna_mse_d))\n",
        "print ('Mean absolute error: ' +str(dnna_mae_d))\n",
        "print ('r2 score: ' +str(dnna_r2_d))"
      ],
      "execution_count": 86,
      "outputs": [
        {
          "output_type": "stream",
          "text": [
            "dnn - For one-hot encoding - with genres\n",
            "Mean squared error: 0.26093290671081426\n",
            "Mean absolute error: 0.27160025216352945\n",
            "r2 score: -0.020863197649933163\n"
          ],
          "name": "stdout"
        }
      ]
    },
    {
      "cell_type": "markdown",
      "metadata": {
        "id": "ETRNTWeWYoEV"
      },
      "source": [
        "# Comparison"
      ]
    },
    {
      "cell_type": "code",
      "metadata": {
        "colab": {
          "base_uri": "https://localhost:8080/",
          "height": 488
        },
        "id": "E8SD7IZIYnl9",
        "outputId": "73b22ffe-e41d-4e9b-bfac-475bebbe2bb9"
      },
      "source": [
        "resultsdf.set_index('Series Name', inplace = True)\n",
        "\n",
        "plt.figure(figsize = (10,12))\n",
        "plt.subplot(3,1,1)\n",
        "resultsdf['Mean Squared Error'].sort_values(ascending = False).plot(kind = 'barh',color=(0.2, 0.8, 0.8, 1), title = 'Mean Squared Error')\n",
        "#plt.subplot(3,1,2)\n",
        "#resultsdf['Mean Absolute Error'].sort_values(ascending = False).plot(kind = 'barh',color=(0.5, 0.4, 0.6, 1), title = 'Mean Absolute Error')\n",
        "plt.subplot(3,1,2)\n",
        "resultsdf['r2_score'].sort_values(ascending = False).plot(kind = 'barh',color=(0.7, 0.4, 0.6, 1), title = 'r2_score')\n",
        "plt.show()"
      ],
      "execution_count": 87,
      "outputs": [
        {
          "output_type": "display_data",
          "data": {
            "image/png": "[encoded data removed]",
            "text/plain": [
              "<Figure size 720x864 with 2 Axes>"
            ]
          },
          "metadata": {
            "tags": []
          }
        }
      ]
    },
    {
      "cell_type": "code",
      "metadata": {
        "id": "vOpTs71KwtYY"
      },
      "source": [
        ""
      ],
      "execution_count": null,
      "outputs": []
    }
  ]
}